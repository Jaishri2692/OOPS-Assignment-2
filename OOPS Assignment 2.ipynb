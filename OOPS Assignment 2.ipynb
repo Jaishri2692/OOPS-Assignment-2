{
 "cells": [
  {
   "cell_type": "code",
   "execution_count": null,
   "id": "159706f7-b4d9-436f-8d5d-e4924cc96f81",
   "metadata": {},
   "outputs": [],
   "source": [
    "# Q1. What is Abstraction in OOps? Explain with an example.\n",
    "\"\"\"\n",
    "In simple terms, abstraction “displays” only the relevant attributes of objects\n",
    "and “hides” the unnecessary details.\n",
    "\n",
    "Example:\n",
    "Your car is a great example of abstraction. \n",
    "You can start a car by turning the key or pressing the start button. \n",
    "You don't need to know how the engine is getting started, what all components your car has. \n",
    "The car internal implementation and complex logic is completely hidden from the user.\n",
    "\"\"\"\n",
    "# An Abstract class can contain the both method normal and abstract method.\n",
    "# An Abstract cannot be instantiated; we cannot create objects for the abstract class."
   ]
  },
  {
   "cell_type": "code",
   "execution_count": 3,
   "id": "8f722860-8d57-4f06-b206-126ae77d01c5",
   "metadata": {},
   "outputs": [
    {
     "name": "stdout",
     "output_type": "stream",
     "text": [
      "Triangle has 3 sides\n",
      "Square has 4 sides\n",
      "Pentagon has 5 sides\n",
      "Hexagon has 6 sides\n"
     ]
    }
   ],
   "source": [
    "# Python program to define abstract class  \n",
    "  \n",
    "from abc import ABC  \n",
    "  \n",
    "class Polygon(ABC):   \n",
    "  \n",
    "   # abstract method   \n",
    "   def sides(self):   \n",
    "      pass  \n",
    "  \n",
    "class Triangle(Polygon):   \n",
    "  \n",
    "     \n",
    "   def sides(self):   \n",
    "      print(\"Triangle has 3 sides\")   \n",
    "  \n",
    "class Pentagon(Polygon):   \n",
    "  \n",
    "     \n",
    "   def sides(self):   \n",
    "      print(\"Pentagon has 5 sides\")   \n",
    "  \n",
    "class Hexagon(Polygon):   \n",
    "  \n",
    "   def sides(self):   \n",
    "      print(\"Hexagon has 6 sides\")   \n",
    "  \n",
    "class square(Polygon):   \n",
    "  \n",
    "   def sides(self):   \n",
    "      print(\"Square has 4 sides\")   \n",
    "  \n",
    "# Driver code   \n",
    "t = Triangle()   \n",
    "t.sides()   \n",
    "  \n",
    "s = square()   \n",
    "s.sides()   \n",
    "  \n",
    "p = Pentagon()   \n",
    "p.sides()   \n",
    "  \n",
    "k = Hexagon()   \n",
    "k.sides() "
   ]
  },
  {
   "cell_type": "code",
   "execution_count": null,
   "id": "9a8075dc-111b-4d67-8659-0991b6cb7ac9",
   "metadata": {},
   "outputs": [],
   "source": [
    "# In the above code, we have defined the abstract base class named Polygon and we also defined the abstract method. \n",
    "# This base class inherited by the various subclasses. We implemented the abstract method in each subclass. \n",
    "# We created the object of the subclasses and invoke the sides() method. \n",
    "# The hidden implementations for the sides() method inside the each subclass comes into play. \n",
    "# The abstract method sides() method, defined in the abstract class, is never invoked."
   ]
  },
  {
   "cell_type": "code",
   "execution_count": null,
   "id": "e76c32dd-b125-40cc-bd79-20d11f346342",
   "metadata": {},
   "outputs": [],
   "source": [
    "# Q2. Differentiate between Abstraction and Encapsulation. Explain with an example.\n",
    "\"\"\" Differences \"\"\"\n",
    "# 1.\n",
    "# Abstraction\n",
    "# It is the process of gaining information.\n",
    "# Encapsulation\n",
    "# It is a method that helps wrap up data into a single module.\n",
    "\n",
    "# 2.\n",
    "# Abstraction\n",
    "# The problems in this technique are solved at the interface level.\n",
    "# Encapsulation\n",
    "# Problems in encapsulation are solved at the implementation level.\n",
    "\n",
    "# 3.\n",
    "# Abstraction\n",
    "# It helps hide the unwanted details/information.\n",
    "# Encapsulation\n",
    "# It helps hide data using a single entity, or using a unit with the help of method \n",
    "#that helps protect the information.\n",
    "\n",
    "# 4.\n",
    "# Abstraction\n",
    "# It can be implemented using abstract classes and interfaces.\n",
    "# Encapsulation\n",
    "# It can be implemented using access modifiers like public, private and protected.\n",
    "\n",
    "# 5.\n",
    "# Abstraction\n",
    "# The complexities of the implementation are hidden using interface and abstract class.\n",
    "# Encapsulation\n",
    "# The data is hidden using methods such as getters and setters.\n",
    "\n",
    "# 6.\n",
    "# Abstraction\n",
    "# Abstraction can be performed using objects that are encapsulated within a single module.\n",
    "# Encapsulation\n",
    "# Objects in encapsulation don't need to be in abstraction."
   ]
  },
  {
   "cell_type": "code",
   "execution_count": 4,
   "id": "1b799166-2ecc-4fcd-b581-735aa62d3f4e",
   "metadata": {},
   "outputs": [
    {
     "name": "stdout",
     "output_type": "stream",
     "text": [
      "Jaishri Gothania\n",
      "Delhi, India HUAPK29971 9872387621\n",
      "Street Food Teaching & Research O+\n"
     ]
    }
   ],
   "source": [
    "# Example elaborating the approach of data encapsulation and abstraction in Python.\n",
    "\n",
    "class Person:\n",
    "    def __init__(self):\n",
    "        self.name = \"Jaishri Gothania\"\n",
    "\n",
    "    def bio(self):\n",
    "        self.addr = \"Delhi, India\"\n",
    "        self.taxInfo = \"HUAPK29971\"\n",
    "        self.contact = \"9872387621\"\n",
    "        print(self.addr, self.taxInfo, self.contact)\n",
    "\n",
    "    def interest(self):\n",
    "        self.favFood = \"Street Food\"\n",
    "        self.hobbies = \"Teaching & Research\"\n",
    "        self.bloodGroup = \"O+\"\n",
    "        print(self.favFood, self.hobbies, self.bloodGroup)\n",
    "\n",
    "obj = Person()\n",
    "print(obj.name)\n",
    "obj.bio()\n",
    "obj.interest()  "
   ]
  },
  {
   "cell_type": "code",
   "execution_count": null,
   "id": "b38c3088-d364-4839-85b9-9d22cca86601",
   "metadata": {},
   "outputs": [],
   "source": [
    "# Q3. What is abc module in python? Why is it used?\n",
    "\n",
    "     # Abstract Base Classes in Python (abc) #\n",
    "\"\"\"    \n",
    "By default, Python does not provide abstract classes.\n",
    "'abc' module in python works by marking methods of the base class as abstract.\n",
    "The 'abc' module in the Python library provides the infrastructure for defining custom abstract base classes. \n",
    "Abstract class cannot be instantiated in python. An Abstract method can be call by its subclasses.\n",
    "\"\"\""
   ]
  },
  {
   "cell_type": "code",
   "execution_count": null,
   "id": "313f6398-ceb2-4c33-bd32-8fa3ec3c7b10",
   "metadata": {},
   "outputs": [],
   "source": [
    "# Q4. How can we achieve data abstraction?\n",
    "\"\"\"\n",
    "In Python, abstraction can be achieved by having/using abstract classes and methods in our programs. \n",
    "Understanding Abstract Methods and Classes:An abstract method is a method that is declared, but does \n",
    "not contain implementation.\n",
    "\"\"\""
   ]
  },
  {
   "cell_type": "code",
   "execution_count": null,
   "id": "20c9ede3-18e2-4581-9db3-69589909fa1c",
   "metadata": {},
   "outputs": [],
   "source": [
    "# Q5. Can we create an instance of an abstract class? Explain your answer.\n",
    "\"\"\"\n",
    "Statement:\n",
    "    No, we can not create an instance of an abstract class.\n",
    "Explaination:    \n",
    "    Abstract classes are not complete, as they may have some methods that are not defined. \n",
    "    So we cannot create an instance or object of an abstract class in Python.\n",
    "\"\"\"    "
   ]
  }
 ],
 "metadata": {
  "kernelspec": {
   "display_name": "Python 3 (ipykernel)",
   "language": "python",
   "name": "python3"
  },
  "language_info": {
   "codemirror_mode": {
    "name": "ipython",
    "version": 3
   },
   "file_extension": ".py",
   "mimetype": "text/x-python",
   "name": "python",
   "nbconvert_exporter": "python",
   "pygments_lexer": "ipython3",
   "version": "3.10.8"
  }
 },
 "nbformat": 4,
 "nbformat_minor": 5
}
